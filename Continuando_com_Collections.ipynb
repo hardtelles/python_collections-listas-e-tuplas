{
  "nbformat": 4,
  "nbformat_minor": 0,
  "metadata": {
    "colab": {
      "provenance": [],
      "authorship_tag": "ABX9TyPxWVS44baAqvPdktg5A1Aw",
      "include_colab_link": true
    },
    "kernelspec": {
      "name": "python3",
      "display_name": "Python 3"
    },
    "language_info": {
      "name": "python"
    }
  },
  "cells": [
    {
      "cell_type": "markdown",
      "metadata": {
        "id": "view-in-github",
        "colab_type": "text"
      },
      "source": [
        "<a href=\"https://colab.research.google.com/github/hardtelles/python_collections-listas-e-tuplas/blob/main/Continuando_com_Collections.ipynb\" target=\"_parent\"><img src=\"https://colab.research.google.com/assets/colab-badge.svg\" alt=\"Open In Colab\"/></a>"
      ]
    },
    {
      "cell_type": "code",
      "execution_count": 9,
      "metadata": {
        "colab": {
          "base_uri": "https://localhost:8080/"
        },
        "id": "n2sgE1Dzhng6",
        "outputId": "00d4f866-65e5-482c-c087-ab19d59967dc"
      },
      "outputs": [
        {
          "output_type": "stream",
          "name": "stdout",
          "text": [
            "56\n",
            "42\n",
            "13\n",
            "23\n",
            "7\n",
            "7\n",
            "8\n",
            "<class 'frozenset'>\n",
            "['Bem', 'vindo', 'meu', 'nome', 'é', 'Jairo', 'eu', 'gosto', 'muit', 'de', 'nomes', 'e', 'tenho', 'o', 'meu', 'cachorro', 'e', 'gosto', 'muito', 'de', 'cachorro']\n"
          ]
        },
        {
          "output_type": "execute_result",
          "data": {
            "text/plain": [
              "{'Bem',\n",
              " 'Jairo',\n",
              " 'cachorro',\n",
              " 'de',\n",
              " 'e',\n",
              " 'eu',\n",
              " 'gosto',\n",
              " 'meu',\n",
              " 'muit',\n",
              " 'muito',\n",
              " 'nome',\n",
              " 'nomes',\n",
              " 'o',\n",
              " 'tenho',\n",
              " 'vindo',\n",
              " 'é'}"
            ]
          },
          "metadata": {},
          "execution_count": 9
        }
      ],
      "source": [
        "usuarios_data_science =[12, 23, 43, 56]\n",
        "usuarios_machine_learning =[13, 23, 56, 42]\n",
        "\n",
        "assistiram = usuarios_machine_learning.copy()\n",
        "assistiram.extend(usuarios_machine_learning)\n",
        "assistiram\n",
        "\n",
        "len(assistiram)\n",
        "\n",
        "set(assistiram)\n",
        "\n",
        "for usuario in set(assistiram):\n",
        "  print(usuario)\n",
        "\n",
        "usuarios_data_science ={12, 23, 43, 56}\n",
        "usuarios_machine_learning ={13, 23, 56, 42}\n",
        "\n",
        "usuarios_data_science | usuarios_machine_learning\n",
        "\n",
        "usuarios_data_science & usuarios_machine_learning\n",
        "\n",
        "usuarios_data_science - usuarios_machine_learning\n",
        "\n",
        "usuarios_data_science ^ usuarios_machine_learning\n",
        "\n",
        "usuarios = {1, 5, 76, 34, 52, 13, 17}\n",
        "print(len(usuarios))\n",
        "\n",
        "usuarios.add(13)\n",
        "print(len(usuarios))\n",
        "\n",
        "usuarios.add(765)\n",
        "print(len(usuarios))\n",
        "\n",
        "usuarios = frozenset(usuarios)\n",
        "frozenset({1, 5, 76, 34, 52, 13, 17})\n",
        "print(type(usuarios))\n",
        "#usuarios.add(13) #frozenset não tem add\n",
        "\n",
        "meu_texto = \"Bem vindo meu nome é Jairo eu gosto muit de nomes e tenho o meu cachorro e gosto muito de cachorro\"\n",
        "print(meu_texto.split())\n",
        "set(meu_texto.split()) #dicionario remove os repetido set igual do java\n"
      ]
    },
    {
      "cell_type": "markdown",
      "source": [
        "Dicionário (Mapa etc)"
      ],
      "metadata": {
        "id": "_dTySJSo_7Us"
      }
    },
    {
      "cell_type": "code",
      "source": [
        "aparicoes = {\"Jairo\" : 1,\n",
        "\"Pedro\" : 2,\n",
        "\"cachorro\" : 4,\n",
        "\"nome\" : 2,\n",
        "\"vindo\" : 1\n",
        "}\n",
        "type(aparicoes)\n",
        "\n",
        "aparicoes.get(\"Pedro\")\n",
        "\n",
        "aparicoes.get(\"cachorro\", 0) # se nao tiver cachorro no dicionario retorna 0\n",
        "\n",
        "#inctanciar dict direto\n",
        "aparicoes = dict(Jairo = 2, cachorro = 1)\n",
        "\n",
        "#adiciona um valor no dicionário\n",
        "aparicoes[\"Carlos\"] = 2 \n",
        "print(aparicoes)\n",
        "\n",
        "# apagar um valor do dict\n",
        "del aparicoes[\"Carlos\"]\n",
        "print(aparicoes)\n",
        "\n",
        "#procurar se uma chave está dentro\n",
        "\n",
        "print(\"cachorro\" in aparicoes)\n",
        "print(\"Carlos\" in aparicoes)\n",
        "\n",
        "#imprimir chave\n",
        "for elemento in aparicoes:\n",
        "  print(elemento)\n",
        "\n",
        "#imprimir chave outra forma\n",
        "for elemento in aparicoes.keys():\n",
        "  print(elemento)  \n",
        "\n",
        "#imprimir valor\n",
        "for elemento in aparicoes.values():\n",
        "  print(elemento)  \n",
        "\n",
        "\n",
        "#imprimir chave valor\n",
        "for elemento in aparicoes.keys():\n",
        "  valor = aparicoes[elemento]\n",
        "  print(elemento, valor)     \n",
        "\n",
        "#imprimir chave valor outra forma de iterar\n",
        "for elemento in aparicoes.items():\n",
        "  print(elemento)\n",
        "\n",
        "\n",
        "#imprimir chave valor outra forma de iterar desenpacotando\n",
        "for chave, valor in aparicoes.items():\n",
        "  print(chave, valor)\n"
      ],
      "metadata": {
        "colab": {
          "base_uri": "https://localhost:8080/"
        },
        "id": "9m5jnbRf__ne",
        "outputId": "b5e0951a-ba90-4412-cb32-88031533a67d"
      },
      "execution_count": 25,
      "outputs": [
        {
          "output_type": "stream",
          "name": "stdout",
          "text": [
            "{'Jairo': 2, 'cachorro': 1, 'Carlos': 2}\n",
            "{'Jairo': 2, 'cachorro': 1}\n",
            "True\n",
            "False\n",
            "Jairo\n",
            "cachorro\n",
            "Jairo\n",
            "cachorro\n",
            "2\n",
            "1\n",
            "Jairo 2\n",
            "cachorro 1\n",
            "('Jairo', 2)\n",
            "('cachorro', 1)\n",
            "Jairo 2\n",
            "cachorro 1\n"
          ]
        }
      ]
    },
    {
      "cell_type": "code",
      "source": [
        "meu_texto = \"Bem vindo meu nome é Jairo eu gosto muit de nomes e tenho o meu cachorro e gosto muito de cachorro\"\n",
        "meu_texto = meu_texto.lower()\n",
        "\n",
        "\n",
        "aparicoes = {}\n",
        "\n",
        "for palavra in meu_texto.split():\n",
        "  ate_agora = aparicoes.get(palavra, 0)\n",
        "  aparicoes[palavra] = ate_agora + 1\n",
        "\n",
        "print(aparicoes)\n"
      ],
      "metadata": {
        "colab": {
          "base_uri": "https://localhost:8080/"
        },
        "id": "FFHs7LC3FqBm",
        "outputId": "37abd91b-44e1-45c5-c6ed-468c4bd7dbe1"
      },
      "execution_count": 28,
      "outputs": [
        {
          "output_type": "stream",
          "name": "stdout",
          "text": [
            "{'bem': 1, 'vindo': 1, 'meu': 2, 'nome': 1, 'é': 1, 'jairo': 1, 'eu': 1, 'gosto': 2, 'muit': 1, 'de': 2, 'nomes': 1, 'e': 2, 'tenho': 1, 'o': 1, 'cachorro': 2, 'muito': 1}\n"
          ]
        }
      ]
    },
    {
      "cell_type": "code",
      "source": [
        "from collections import defaultdict\n",
        "\n",
        "aparicoes = defaultdict(int)\n",
        "\n",
        "meu_texto = \"Bem vindo meu nome é Jairo eu gosto muit de nomes e tenho o meu cachorro e gosto muito de cachorro\"\n",
        "meu_texto = meu_texto.lower()\n",
        "\n",
        "for palavra in meu_texto.split():\n",
        "  ate_agora = aparicoes[palavra]\n",
        "  aparicoes[palavra] = ate_agora + 1\n",
        "\n",
        "print(aparicoes)\n",
        "\n",
        "\n",
        "#usando o defautdict no dia a dia\n",
        "dicionario = defaultdict(int)\n",
        "print(dicionario[\"jairo\"])\n",
        "\n",
        "\n",
        "#conhecendo as APIs e melhorando meu código\n",
        "for palavra in meu_texto.split():\n",
        "  aparicoes[palavra] += 1\n",
        "\n",
        "print(aparicoes)\n"
      ],
      "metadata": {
        "colab": {
          "base_uri": "https://localhost:8080/"
        },
        "id": "7Vkr4vlLG2ei",
        "outputId": "93ca9ffc-f510-4d98-82fc-e728f486aeb0"
      },
      "execution_count": 3,
      "outputs": [
        {
          "output_type": "stream",
          "name": "stdout",
          "text": [
            "defaultdict(<class 'int'>, {'bem': 1, 'vindo': 1, 'meu': 2, 'nome': 1, 'é': 1, 'jairo': 1, 'eu': 1, 'gosto': 2, 'muit': 1, 'de': 2, 'nomes': 1, 'e': 2, 'tenho': 1, 'o': 1, 'cachorro': 2, 'muito': 1})\n",
            "0\n",
            "defaultdict(<class 'int'>, {'bem': 2, 'vindo': 2, 'meu': 4, 'nome': 2, 'é': 2, 'jairo': 2, 'eu': 2, 'gosto': 4, 'muit': 2, 'de': 4, 'nomes': 2, 'e': 4, 'tenho': 2, 'o': 2, 'cachorro': 4, 'muito': 2})\n"
          ]
        }
      ]
    },
    {
      "cell_type": "code",
      "source": [
        "from collections import defaultdict\n",
        "\n",
        "class Conta:\n",
        "  def __init__(self):\n",
        "    print(\"Criando uma Conta\")\n",
        "\n",
        "contas = defaultdict(Conta)\n",
        "contas[15] "
      ],
      "metadata": {
        "colab": {
          "base_uri": "https://localhost:8080/"
        },
        "id": "_nbYhmB_ONWr",
        "outputId": "155f6019-1cc4-4315-f163-b99fe3427044"
      },
      "execution_count": 11,
      "outputs": [
        {
          "output_type": "stream",
          "name": "stdout",
          "text": [
            "Criando uma Conta\n"
          ]
        },
        {
          "output_type": "execute_result",
          "data": {
            "text/plain": [
              "<__main__.Conta at 0x7fd109d5b6d0>"
            ]
          },
          "metadata": {},
          "execution_count": 11
        }
      ]
    },
    {
      "cell_type": "code",
      "source": [
        "from collections import Counter\n",
        "\n",
        "meu_texto = \"Bem vindo meu nome é Jairo eu gosto muit de nomes e tenho o meu cachorro e gosto muito de cachorro\"\n",
        "meu_texto = meu_texto.lower()\n",
        "\n",
        "\n",
        "aparicoes = Counter(meu_texto.split())\n",
        "print(aparicoes)"
      ],
      "metadata": {
        "colab": {
          "base_uri": "https://localhost:8080/"
        },
        "id": "vQRTOpfKPNXH",
        "outputId": "3a5035f9-a1ce-4604-8df0-2b9187346254"
      },
      "execution_count": 13,
      "outputs": [
        {
          "output_type": "stream",
          "name": "stdout",
          "text": [
            "Counter({'meu': 2, 'gosto': 2, 'de': 2, 'e': 2, 'cachorro': 2, 'bem': 1, 'vindo': 1, 'nome': 1, 'é': 1, 'jairo': 1, 'eu': 1, 'muit': 1, 'nomes': 1, 'tenho': 1, 'o': 1, 'muito': 1})\n"
          ]
        }
      ]
    },
    {
      "cell_type": "code",
      "source": [],
      "metadata": {
        "id": "BBRqrx_RQNIy"
      },
      "execution_count": null,
      "outputs": []
    },
    {
      "cell_type": "markdown",
      "source": [
        "Testando conatem de letras"
      ],
      "metadata": {
        "id": "xyA_3vm_QN9d"
      }
    },
    {
      "cell_type": "code",
      "source": [
        "texto1 = \"\"\"\n",
        "Na imagem acima, temos o framework Express.js e, na aba API reference temos suas diferentes versões.\n",
        "\n",
        "Cada versão possui um número diferente que, ao clicar em cada uma das versões, vemos melhorias e demais mudanças que podem diferir bastante uma das outras, maior número representa a versão mais atual - no caso 5.x (beta). O x indica que podemos ter qualquer número ali, o que importa é o primeiro número da sequência; já o beta está ligado ao momento de lançamento desse software (não se preocupe, veremos isso no próximo tópico).\n",
        "\n",
        "Aqui na Alura procuramos destacar em nossas videoaulas a versão utilizada nas instalações para evitar qualquer tipo de problemas com incompatibilidade de versões e seu código não quebrar no desenvolvimento do projeto.\n",
        "\n",
        "Esse cuidado deve fazer parte da rotina de uma pessoa desenvolvedora. Versionar seu código é uma forma de acompanhar etapas e comunicar mudanças no projeto, já que constantemente estamos compartilhando códigos através de repositórios públicos e até mesmo privados.\n",
        "\"\"\"\n",
        "\n",
        "texto2 = \"\"\"\n",
        "O que é OKR?\n",
        "Andrew Grove, ex-CEO da Intel, criou esse sistema de metas para traçar os objetivos do negócio e acompanhá-los ao longo do tempo.\n",
        "\n",
        "OKR é uma abordagem de gerenciamento ágil baseada em metas desafiadoras e resultados mensuráveis. Ele foi projetado para responder às mudanças e orientar as pessoas na direção de seus objetivos, facilitando a medição dos resultados de forma clara e transparente para todos.\n",
        "\n",
        "Para estabelecermos um bom entendimento de OKR, vamos abordar 3 conceitos centrais: o conceito de objetivos, o de Key Results e de iniciativas. Estes conceitos são essenciais para quem utiliza OKR, por isso é importante entendermos como eles se relacionam, como se complementam e como podem ser úteis para você ou para seu negócio.\n",
        "\"\"\"\n",
        "\n",
        "#as 10 letras mais comuns em porcetagem usando Counter e dict e gerando um lista no for\n",
        "def analiza_frequencia_de_letras(texto):\n",
        "  aparicoes = Counter(texto1.lower())\n",
        "  total_caracteres = sum(aparicoes.values())\n",
        "  proporcoes = [(letra, frequencia / total_caracteres) for letra, frequencia in aparicoes.items()]\n",
        "  proporcoes = Counter(dict(proporcoes))\n",
        "  mais_comuns = proporcoes.most_common(10)\n",
        "  for caractere, proporcao in mais_comuns:\n",
        "    print(\"{} => {:.2f}%\".format(caractere, proporcao * 100))\n",
        "\n",
        "analiza_frequencia_de_letras(texto1)\n"
      ],
      "metadata": {
        "colab": {
          "base_uri": "https://localhost:8080/"
        },
        "id": "BOZSCYmiQuJ9",
        "outputId": "1090cd68-dcb1-4075-b38d-8952aba4f564"
      },
      "execution_count": 22,
      "outputs": [
        {
          "output_type": "stream",
          "name": "stdout",
          "text": [
            "  => 15.51%\n",
            "e => 10.50%\n",
            "a => 9.62%\n",
            "o => 7.85%\n",
            "s => 6.97%\n",
            "r => 5.89%\n",
            "i => 4.71%\n",
            "m => 4.51%\n",
            "n => 3.93%\n",
            "d => 3.93%\n"
          ]
        }
      ]
    }
  ]
}