{
  "nbformat": 4,
  "nbformat_minor": 0,
  "metadata": {
    "colab": {
      "provenance": [],
      "authorship_tag": "ABX9TyMpoagsezyQD3Qr7MpEmLs9",
      "include_colab_link": true
    },
    "kernelspec": {
      "name": "python3",
      "display_name": "Python 3"
    },
    "language_info": {
      "name": "python"
    }
  },
  "cells": [
    {
      "cell_type": "markdown",
      "metadata": {
        "id": "view-in-github",
        "colab_type": "text"
      },
      "source": [
        "<a href=\"https://colab.research.google.com/github/hardtelles/python_collections-listas-e-tuplas/blob/main/Introducao_a_Collections.ipynb\" target=\"_parent\"><img src=\"https://colab.research.google.com/assets/colab-badge.svg\" alt=\"Open In Colab\"/></a>"
      ]
    },
    {
      "cell_type": "code",
      "execution_count": null,
      "metadata": {
        "colab": {
          "base_uri": "https://localhost:8080/"
        },
        "id": "1ReN82cpbjoI",
        "outputId": "ca69c2a1-da07-4dc6-f482-ff6775721df5"
      },
      "outputs": [
        {
          "output_type": "stream",
          "name": "stdout",
          "text": [
            "qtd:4\n",
            "30\n",
            "27\n",
            "18\n",
            "27 sim\n",
            "30 sim\n"
          ]
        },
        {
          "output_type": "execute_result",
          "data": {
            "text/plain": [
              "[40, 31, 28]"
            ]
          },
          "metadata": {},
          "execution_count": 1
        }
      ],
      "source": [
        "idade1 = 39\n",
        "idade2 = 30\n",
        "idade3 = 27\n",
        "idade4 = 18\n",
        "\n",
        "\n",
        "\n",
        "idades = [39, 30, 27, 18]\n",
        "\n",
        "type(idades)\n",
        "\n",
        "idades\n",
        "print('qtd:{}'.format(len(idades))) \n",
        "\n",
        "\n",
        "print(idades[1])\n",
        "print(idades[2])\n",
        "print(idades[3])\n",
        "\n",
        "if 27 in idades:\n",
        "  print('27 sim')\n",
        "\n",
        "if(30 in idades):\n",
        "  print('30 sim')\n",
        "\n",
        "idades.insert(0,20)\n",
        "idades \n",
        "\n",
        "idades.extend([1,3])\n",
        "idades\n",
        "\n",
        "idades_no_ano_que_vem = [(idade+1) for idade in idades]\n",
        "idades_no_ano_que_vem\n",
        "\n",
        "idades_no_ano_que_vem_novo = [idade+1 for idade in idades if idade > 21]\n",
        "idades_no_ano_que_vem_novo"
      ]
    },
    {
      "cell_type": "markdown",
      "source": [
        "Objetos Própios"
      ],
      "metadata": {
        "id": "T2Ru-QFYLYso"
      }
    },
    {
      "cell_type": "code",
      "source": [
        "class ContaCorrente:\n",
        "\n",
        "  def __init__(self,codigo):\n",
        "    self.codigo = codigo\n",
        "    self.saldo = 0\n",
        "\n",
        "  def deposita(self, valor):\n",
        "    self.saldo += valor\n",
        "\n",
        "  def __str__(self):\n",
        "    return \"[>>codigo {} Saldo {}<<]\".format(self.codigo, self.saldo)\n",
        "\n",
        "\n",
        "def deposita_para_todas(contas):\n",
        "    for conta in contas:\n",
        "      conta.deposita(1000)    \n",
        "\n",
        "conta_do_gui = ContaCorrente(15)\n",
        "print(conta_do_gui)    \n",
        "\n",
        "conta_do_gui.deposita(500)\n",
        "print(conta_do_gui)\n",
        "\n",
        "conta_da_dani = ContaCorrente(20)\n",
        "print(conta_da_dani) \n",
        "\n",
        "contas = [conta_do_gui, conta_da_dani]\n",
        "print(contas[0], contas[1])\n",
        "deposita_para_todas(contas)\n",
        "print(contas[0], contas[1])"
      ],
      "metadata": {
        "colab": {
          "base_uri": "https://localhost:8080/"
        },
        "id": "f6bSJze7LfYY",
        "outputId": "52253381-c8ec-4676-8beb-14929ab2d4e9"
      },
      "execution_count": null,
      "outputs": [
        {
          "output_type": "stream",
          "name": "stdout",
          "text": [
            "[>>codigo 15 Saldo 0<<]\n",
            "[>>codigo 15 Saldo 500<<]\n",
            "[>>codigo 20 Saldo 0<<]\n",
            "[>>codigo 15 Saldo 500<<] [>>codigo 20 Saldo 0<<]\n",
            "[>>codigo 15 Saldo 1500<<] [>>codigo 20 Saldo 1000<<]\n"
          ]
        }
      ]
    },
    {
      "cell_type": "code",
      "source": [],
      "metadata": {
        "id": "hAuP5gk7YSOG"
      },
      "execution_count": null,
      "outputs": []
    },
    {
      "cell_type": "markdown",
      "source": [
        "Herança e polimorfismo\n"
      ],
      "metadata": {
        "id": "kJoAqDgFlXYP"
      }
    },
    {
      "cell_type": "code",
      "source": [
        "\n"
      ],
      "metadata": {
        "colab": {
          "base_uri": "https://localhost:8080/"
        },
        "id": "eUrINWqclhz8",
        "outputId": "f1386593-a39b-4c60-d7ff-8b329d469ea0"
      },
      "execution_count": null,
      "outputs": [
        {
          "output_type": "stream",
          "name": "stdout",
          "text": [
            "[>>codigo 88 Saldo 0<<]\n"
          ]
        }
      ]
    },
    {
      "cell_type": "code",
      "source": [
        "from abc import ABCMeta, abstractmethod\n",
        "from functools import total_ordering\n",
        "\n",
        "@total_ordering\n",
        "class Conta(metaclass=ABCMeta):\n",
        "\n",
        "  def __init__(self,codigo):\n",
        "    self._codigo = codigo\n",
        "    self._saldo = 0\n",
        "\n",
        "  def deposita(self, valor):\n",
        "    self._saldo += valor\n",
        "\n",
        "  def __lt__(self, outro):\n",
        "    if self._saldo != outro._saldo:\n",
        "      return self._saldo < outro._saldo\n",
        "    return self._codigo < outro._codigo  \n",
        "\n",
        "  @abstractmethod\n",
        "  def passa_o_mes(self):\n",
        "    pass  \n",
        "\n",
        "  def __str__(self):\n",
        "    return \"[>>codigo {} Saldo {}<<]\".format(self._codigo, self._saldo)\n",
        "\n",
        "\n",
        "#print(Conta(88))\n",
        "\n",
        "class ContaCorrente(Conta):\n",
        "  def passa_o_mes(self):\n",
        "    self._saldo -= 2 \n",
        "\n",
        "class ContaPoupanca(Conta):\n",
        "  def passa_o_mes(self):\n",
        "    self._saldo *=  1.01\n",
        "    self._saldo -= 3\n",
        "\n",
        "class ContaInvestimento(Conta):\n",
        "   def passa_o_mes(self):\n",
        "    self._saldo -= 2 \n",
        "\n",
        "conta16 = ContaCorrente(16)\n",
        "conta16.deposita(1000)\n",
        "conta16.passa_o_mes()\n",
        "#print(conta16) \n",
        "\n",
        "conta16 = ContaCorrente(16)\n",
        "conta16.deposita(1000)\n",
        "conta17 = ContaCorrente(17)\n",
        "conta17.deposita(1000)\n",
        "\n",
        "\n",
        "conta18 = ContaInvestimento(18)\n",
        "conta18.deposita(100)\n",
        "conta18.passa_o_mes()\n",
        "#print(conta18) \n",
        "\n",
        "contas = [conta16, conta17, conta18]\n",
        "\n",
        "for conta in contas:\n",
        "  conta.passa_o_mes() # duck typing\n",
        "  #print(conta)\n",
        "\n",
        "import array as arr\n",
        "arr.array('d', [1, 3.3])  \n",
        "\n",
        "#!pip install numpy\n",
        "\n",
        "import numpy as np\n",
        "\n",
        "numeros = np.array([1, 3.5])\n",
        "numeros\n",
        "\n",
        "\n",
        "conta_jairo = ContaCorrente(16)\n",
        "conta_jairo.deposita(1000)\n",
        "conta_jairo.passa_o_mes()\n",
        "#print(conta_jairo) \n",
        "\n",
        "conta_jairo = ContaCorrente(16)\n",
        "conta_jairo.deposita(200000)\n",
        "\n",
        "conta_guilherme = ContaCorrente(17)\n",
        "conta_guilherme.deposita(10000)\n",
        "\n",
        "\n",
        "conta_pedro = ContaInvestimento(18)\n",
        "conta_pedro.deposita(20000)\n",
        "conta_pedro.passa_o_mes()\n",
        "\n",
        "contas_novas = [conta_pedro, conta_jairo, conta_guilherme]\n",
        "\n",
        "def extrai_saldo(conta):\n",
        "  return conta._saldo\n",
        "\n",
        "for conta in sorted(contas_novas, key=extrai_saldo):\n",
        "  print(conta)\n",
        "\n",
        "from operator import attrgetter\n",
        "for conta in sorted(contas_novas, key=attrgetter(\"_saldo\")):\n",
        "  print(\"forma2:\",conta)\n",
        "\n",
        "\n",
        "\n",
        "#quando implemento metodo __lt__ posso comparar direto\n",
        "conta_jairo < conta_guilherme\n",
        "\n",
        "for conta in sorted(contas_novas):\n",
        "  print(\"forma3:\",conta)\n",
        "\n",
        "#dois ordenadores\n",
        "for conta in sorted(contas_novas, key=attrgetter(\"_saldo\", \"_codigo\")):\n",
        "  print(\"forma4:\",conta)    \n",
        "\n",
        "#Total ordering\n",
        "\n",
        "conta_jairo == conta_pedro\n",
        "conta_jairo == conta_jairo"
      ],
      "metadata": {
        "colab": {
          "base_uri": "https://localhost:8080/"
        },
        "id": "N3-VuD7el8ZK",
        "outputId": "352b9800-b53c-4480-b494-7657aaeb185b"
      },
      "execution_count": 23,
      "outputs": [
        {
          "output_type": "stream",
          "name": "stdout",
          "text": [
            "[>>codigo 17 Saldo 10000<<]\n",
            "[>>codigo 18 Saldo 19998<<]\n",
            "[>>codigo 16 Saldo 200000<<]\n",
            "forma2: [>>codigo 17 Saldo 10000<<]\n",
            "forma2: [>>codigo 18 Saldo 19998<<]\n",
            "forma2: [>>codigo 16 Saldo 200000<<]\n",
            "forma3: [>>codigo 17 Saldo 10000<<]\n",
            "forma3: [>>codigo 18 Saldo 19998<<]\n",
            "forma3: [>>codigo 16 Saldo 200000<<]\n",
            "forma4: [>>codigo 17 Saldo 10000<<]\n",
            "forma4: [>>codigo 18 Saldo 19998<<]\n",
            "forma4: [>>codigo 16 Saldo 200000<<]\n"
          ]
        },
        {
          "output_type": "execute_result",
          "data": {
            "text/plain": [
              "True"
            ]
          },
          "metadata": {},
          "execution_count": 23
        }
      ]
    },
    {
      "cell_type": "code",
      "source": [
        "class ContaSalario:\n",
        "  def __init__(self, codigo):\n",
        "    self._codigo = codigo\n",
        "    self._saldo = 0\n",
        "\n",
        "  def deposita(self, valor):\n",
        "    self._saldo += valor\n",
        "\n",
        "  def __str__(self):\n",
        "    return \"[>>Codigo {} Saldo {}<<]\".format(self._codigo, self._saldo)  \n",
        "\n",
        "  def __eq__(self, outro):\n",
        "    if type(outro) != ContaSalario:\n",
        "      return False\n",
        "    return self._codigo == outro._codigo  \n",
        "\n",
        "conta1 = ContaCorrente(37)\n",
        "print(conta1)\n",
        "\n",
        "conta2 = ContaSalario(37)\n",
        "print(conta2)\n",
        "\n",
        "conta1 == conta2\n",
        "\n",
        "#contas = [conta2]\n",
        "\n",
        "#conta1 in contas"
      ],
      "metadata": {
        "colab": {
          "base_uri": "https://localhost:8080/"
        },
        "id": "s9GyFqiSP1a3",
        "outputId": "31d063a1-e2fd-4c05-caaf-8c8cd18184ec"
      },
      "execution_count": null,
      "outputs": [
        {
          "output_type": "stream",
          "name": "stdout",
          "text": [
            "[>>codigo 37 Saldo 0<<]\n",
            "[>>Codigo 37 Saldo 0<<]\n"
          ]
        },
        {
          "output_type": "execute_result",
          "data": {
            "text/plain": [
              "False"
            ]
          },
          "metadata": {},
          "execution_count": 24
        }
      ]
    },
    {
      "cell_type": "code",
      "source": [
        "idades = [15, 87, 32, 65, 56, 32, 49, 37]\n",
        "\n",
        "for i in range(len(idades)):\n",
        "  print(i, idades[i])\n",
        "\n",
        "enumerate(idades)\n",
        "\n",
        "list(range(len(idades)))\n",
        "\n",
        "list(enumerate(idades))\n",
        "\n",
        "for indice, idade in enumerate(idades):\n",
        "  print(\"indice:\", indice, \"valor:\" , idade)\n",
        "\n",
        "  "
      ],
      "metadata": {
        "colab": {
          "base_uri": "https://localhost:8080/"
        },
        "id": "j05VuF3ydNoN",
        "outputId": "22b1b0ee-4368-46e2-e3fc-89409c758487"
      },
      "execution_count": null,
      "outputs": [
        {
          "output_type": "stream",
          "name": "stdout",
          "text": [
            "0 15\n",
            "1 87\n",
            "2 32\n",
            "3 65\n",
            "4 56\n",
            "5 32\n",
            "6 49\n",
            "7 37\n",
            "indice: 0 valor: 15\n",
            "indice: 1 valor: 87\n",
            "indice: 2 valor: 32\n",
            "indice: 3 valor: 65\n",
            "indice: 4 valor: 56\n",
            "indice: 5 valor: 32\n",
            "indice: 6 valor: 49\n",
            "indice: 7 valor: 37\n"
          ]
        }
      ]
    },
    {
      "cell_type": "code",
      "source": [
        "usuarios = [\n",
        "    (\"guilherme\", 37, 1981),\n",
        "    (\"jairo\", 23, 1982),\n",
        "    (\"Paulo\", 45, 1985)\n",
        "]\n",
        "\n",
        "for nome, idade, nascimento in usuarios: # já desempacotando\n",
        "  print(nome)\n",
        "\n",
        "for nome, _, _ in usuarios: # já desempacotando\n",
        "  print(nome)  "
      ],
      "metadata": {
        "colab": {
          "base_uri": "https://localhost:8080/"
        },
        "id": "OqHXYeIQfpz8",
        "outputId": "bfe3f7fc-85c0-4e08-a32f-f85ff280efe7"
      },
      "execution_count": null,
      "outputs": [
        {
          "output_type": "stream",
          "name": "stdout",
          "text": [
            "guilherme\n",
            "jairo\n",
            "Paulo\n",
            "guilherme\n",
            "jairo\n",
            "Paulo\n"
          ]
        }
      ]
    },
    {
      "cell_type": "code",
      "source": [
        "idades = [39, 30, 27, 18]\n",
        "\n",
        "print(idades)\n",
        "print(sorted(idades, reverse=True))\n",
        "print(list(reversed(idades)))\n",
        "print(list(reversed(sorted(idades))))\n",
        "idades.sort()\n",
        "print(idades)\n",
        "\n",
        "\n",
        "15 < 32\n",
        "\n",
        "nome = [\"Jairo\", \"Guilherme\",  \"Paulo\"]\n",
        "sorted(nome)\n",
        "\n",
        "\n",
        "\n"
      ],
      "metadata": {
        "colab": {
          "base_uri": "https://localhost:8080/",
          "height": 321
        },
        "id": "CluZ4x2zPS5B",
        "outputId": "c05a815e-bcd5-40f3-eb1d-d26d76971d07"
      },
      "execution_count": 4,
      "outputs": [
        {
          "output_type": "stream",
          "name": "stdout",
          "text": [
            "[39, 30, 27, 18]\n",
            "[39, 30, 27, 18]\n",
            "[18, 27, 30, 39]\n",
            "[39, 30, 27, 18]\n",
            "[18, 27, 30, 39]\n"
          ]
        },
        {
          "output_type": "error",
          "ename": "NameError",
          "evalue": "ignored",
          "traceback": [
            "\u001b[0;31m---------------------------------------------------------------------------\u001b[0m",
            "\u001b[0;31mNameError\u001b[0m                                 Traceback (most recent call last)",
            "\u001b[0;32m<ipython-input-4-8f8571ce7960>\u001b[0m in \u001b[0;36m<module>\u001b[0;34m\u001b[0m\n\u001b[1;32m     14\u001b[0m \u001b[0msorted\u001b[0m\u001b[0;34m(\u001b[0m\u001b[0mnome\u001b[0m\u001b[0;34m)\u001b[0m\u001b[0;34m\u001b[0m\u001b[0;34m\u001b[0m\u001b[0m\n\u001b[1;32m     15\u001b[0m \u001b[0;34m\u001b[0m\u001b[0m\n\u001b[0;32m---> 16\u001b[0;31m \u001b[0mconta_jairo\u001b[0m \u001b[0;34m=\u001b[0m \u001b[0mContaCorrente\u001b[0m\u001b[0;34m(\u001b[0m\u001b[0;36m16\u001b[0m\u001b[0;34m)\u001b[0m\u001b[0;34m\u001b[0m\u001b[0;34m\u001b[0m\u001b[0m\n\u001b[0m\u001b[1;32m     17\u001b[0m \u001b[0mconta_jairo\u001b[0m\u001b[0;34m.\u001b[0m\u001b[0mdeposita\u001b[0m\u001b[0;34m(\u001b[0m\u001b[0;36m1000\u001b[0m\u001b[0;34m)\u001b[0m\u001b[0;34m\u001b[0m\u001b[0;34m\u001b[0m\u001b[0m\n\u001b[1;32m     18\u001b[0m \u001b[0mconta_jairo\u001b[0m\u001b[0;34m.\u001b[0m\u001b[0mpassa_o_mes\u001b[0m\u001b[0;34m(\u001b[0m\u001b[0;34m)\u001b[0m\u001b[0;34m\u001b[0m\u001b[0;34m\u001b[0m\u001b[0m\n",
            "\u001b[0;31mNameError\u001b[0m: name 'ContaCorrente' is not defined"
          ]
        }
      ]
    }
  ]
}